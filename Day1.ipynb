{
  "nbformat": 4,
  "nbformat_minor": 0,
  "metadata": {
    "colab": {
      "provenance": [],
      "authorship_tag": "ABX9TyP7Kg4V/h1NM0U+Wrga5yJk",
      "include_colab_link": true
    },
    "kernelspec": {
      "name": "python3",
      "display_name": "Python 3"
    },
    "language_info": {
      "name": "python"
    }
  },
  "cells": [
    {
      "cell_type": "markdown",
      "metadata": {
        "id": "view-in-github",
        "colab_type": "text"
      },
      "source": [
        "<a href=\"https://colab.research.google.com/github/michael-korsh/adventofcode22/blob/main/Day1.ipynb\" target=\"_parent\"><img src=\"https://colab.research.google.com/assets/colab-badge.svg\" alt=\"Open In Colab\"/></a>"
      ]
    },
    {
      "cell_type": "markdown",
      "source": [
        "**Part 1**"
      ],
      "metadata": {
        "id": "6r0K8_EYAHH9"
      }
    },
    {
      "cell_type": "code",
      "source": [
        "elf_input = open(\"/content/day1_input.txt\", \"r\", encoding=\"utf-8-sig\").read()\n",
        "\n",
        "calories = elf_input.split(\"\\n\\n\")\n",
        "elf_calories = [list(filter(None, elf.split(\"\\n\"))) for elf in calories]\n",
        "elf_totals = []\n",
        "\n",
        "for elf in elf_calories:\n",
        "  new_elf = 0\n",
        "  for a in elf:\n",
        "    new_elf += int(a)\n",
        "  elf_totals.append(new_elf)\n",
        "\n",
        "max(elf_totals)"
      ],
      "metadata": {
        "colab": {
          "base_uri": "https://localhost:8080/"
        },
        "id": "g9WoVN2h7vMq",
        "outputId": "9983f98c-258b-4bba-c9b9-afa762ed6494"
      },
      "execution_count": null,
      "outputs": [
        {
          "output_type": "stream",
          "name": "stdout",
          "text": [
            "[51844, 44141, 28132, 49298, 26247, 20440, 67633, 55130, 55096, 53969, 40271, 58269, 35686, 49227, 58636, 36249, 42485, 54654, 63408, 63109, 40619, 49647, 36645, 35247, 49660, 49302, 28043, 47090, 51765, 58095, 44848, 34147, 37004, 55898, 36418, 15339, 42491, 46718, 48425, 49961, 43267, 36849, 36364, 39550, 50689, 52621, 40877, 43244, 49465, 63835, 51799, 43042, 48650, 40413, 18568, 47657, 49556, 47688, 49459, 44141, 28898, 43380, 42296, 53976, 47189, 39806, 56130, 36647, 41933, 39306, 43753, 38409, 47381, 48158, 53407, 44750, 46481, 35984, 60609, 57316, 51426, 64323, 50097, 61359, 53145, 32522, 42260, 49904, 9351, 52100, 5661, 54820, 34648, 63761, 58203, 46693, 48110, 44137, 38211, 42615, 44673, 61017, 25597, 37508, 29450, 51702, 31016, 61108, 18469, 58586, 39430, 54831, 50371, 34093, 40399, 52613, 48271, 54498, 38000, 39821, 46349, 38801, 34168, 55371, 49362, 50970, 48724, 37853, 43261, 41933, 50046, 53996, 47646, 50491, 46836, 31990, 45491, 26515, 26047, 38394, 38663, 38735, 44243, 43818, 53199, 47857, 51259, 53448, 66296, 54475, 53177, 47376, 54162, 54285, 49358, 47882, 57724, 65699, 54554, 41521, 30537, 50495, 51224, 43638, 48636, 50355, 43112, 45987, 43396, 45290, 34853, 54202, 49103, 58900, 47837, 55977, 40906, 35240, 46984, 50737, 50122, 46269, 45473, 57495, 44462, 52550, 41788, 57791, 19696, 50308, 59894, 44502, 45176, 52195, 53224, 42420, 42674, 52747, 57056, 49634, 28718, 48014, 27138, 47797, 48668, 59578, 50509, 45736, 53794, 47042, 52419, 33008, 47431, 49095, 45813, 42859, 47015, 38804, 59382, 18473, 32766, 52003, 53439, 40314, 54545, 60341, 41048, 44287, 38411, 48603, 40070, 63498, 20716, 45127, 53561, 52153, 40813, 50085, 24566, 41949, 54857, 45101]\n"
          ]
        },
        {
          "output_type": "execute_result",
          "data": {
            "text/plain": [
              "67633"
            ]
          },
          "metadata": {},
          "execution_count": 47
        }
      ]
    },
    {
      "cell_type": "markdown",
      "source": [
        "**Part 2**"
      ],
      "metadata": {
        "id": "OvBS2DYxAKRI"
      }
    },
    {
      "cell_type": "code",
      "source": [
        "part_2 = elf_totals\n",
        "part_2.sort(reverse=True)\n",
        "top_3 = sum(part_2[0:3])\n",
        "top_3"
      ],
      "metadata": {
        "colab": {
          "base_uri": "https://localhost:8080/"
        },
        "id": "M8TLjHR0_LKI",
        "outputId": "eff89caf-f024-4e11-b284-9f349cb84185"
      },
      "execution_count": null,
      "outputs": [
        {
          "output_type": "execute_result",
          "data": {
            "text/plain": [
              "199628"
            ]
          },
          "metadata": {},
          "execution_count": 60
        }
      ]
    }
  ]
}